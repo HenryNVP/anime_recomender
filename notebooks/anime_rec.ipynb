{
  "cells": [
    {
      "cell_type": "markdown",
      "id": "c73f1a0e",
      "metadata": {
        "id": "c73f1a0e"
      },
      "source": [
        "# Anime Recommender\n",
        "Item-based Collaborative Filtering | Matrix Factorization | Neural Matrix Factorization (NeuMF) | Two-Tower"
      ]
    },
    {
      "cell_type": "markdown",
      "id": "d8d59595",
      "metadata": {
        "id": "d8d59595"
      },
      "source": [
        "✨ Highlights\n",
        "\n",
        "- Models: Matrix Factorization (MF), NeuMF, Two-Tower, and ItemCF baseline.\n",
        "\n",
        "- Objectives: MSE (explicit ratings), BPR (implicit ranking), and MSE→BPR fine-tune.\n",
        "\n",
        "- Reproducible runs: auto-timestamped run dirs, TensorBoard logs, best/last checkpoints.\n",
        "\n",
        "- Batch evaluation: generate a single summary table (RMSE/MAE + HR@K/NDCG@K) across all variants.\n",
        "\n",
        "- Feature support: plug item features (item_feats.npy) directly into NeuMF’s MLP tower."
      ]
    },
    {
      "cell_type": "code",
      "execution_count": 1,
      "id": "432fb183",
      "metadata": {
        "colab": {
          "base_uri": "https://localhost:8080/"
        },
        "id": "432fb183",
        "outputId": "6d2df745-0411-4bbd-ccec-93bc8bb6a815"
      },
      "outputs": [
        {
          "name": "stdout",
          "output_type": "stream",
          "text": [
            "Cloning into 'anime_recomender'...\n",
            "remote: Enumerating objects: 150, done.\u001b[K\n",
            "remote: Counting objects: 100% (150/150), done.\u001b[K\n",
            "remote: Compressing objects: 100% (84/84), done.\u001b[K\n",
            "remote: Total 150 (delta 75), reused 123 (delta 54), pack-reused 0 (from 0)\u001b[K\n",
            "Receiving objects: 100% (150/150), 59.68 KiB | 1.05 MiB/s, done.\n",
            "Resolving deltas: 100% (75/75), done.\n",
            "/content/anime_recomender\n",
            "CUDA available: True\n"
          ]
        }
      ],
      "source": [
        "REPO = \"https://github.com/HenryNVP/anime_recomender.git\"\n",
        "!git clone $REPO\n",
        "\n",
        "import os\n",
        "%cd anime_recomender/\n",
        "\n",
        "!pip -q install -r requirements.txt\n",
        "\n",
        "import torch\n",
        "print(\"CUDA available:\", torch.cuda.is_available())"
      ]
    },
    {
      "cell_type": "code",
      "execution_count": 2,
      "id": "20a13a95",
      "metadata": {
        "colab": {
          "base_uri": "https://localhost:8080/",
          "height": 129
        },
        "id": "20a13a95",
        "outputId": "9a988b3b-6bb5-4431-d3c0-258413152d32"
      },
      "outputs": [
        {
          "data": {
            "text/html": [
              "\n",
              "     <input type=\"file\" id=\"files-89abf8d2-e686-46c8-933f-21ea87c3dbd2\" name=\"files[]\" multiple disabled\n",
              "        style=\"border:none\" />\n",
              "     <output id=\"result-89abf8d2-e686-46c8-933f-21ea87c3dbd2\">\n",
              "      Upload widget is only available when the cell has been executed in the\n",
              "      current browser session. Please rerun this cell to enable.\n",
              "      </output>\n",
              "      <script>// Copyright 2017 Google LLC\n",
              "//\n",
              "// Licensed under the Apache License, Version 2.0 (the \"License\");\n",
              "// you may not use this file except in compliance with the License.\n",
              "// You may obtain a copy of the License at\n",
              "//\n",
              "//      http://www.apache.org/licenses/LICENSE-2.0\n",
              "//\n",
              "// Unless required by applicable law or agreed to in writing, software\n",
              "// distributed under the License is distributed on an \"AS IS\" BASIS,\n",
              "// WITHOUT WARRANTIES OR CONDITIONS OF ANY KIND, either express or implied.\n",
              "// See the License for the specific language governing permissions and\n",
              "// limitations under the License.\n",
              "\n",
              "/**\n",
              " * @fileoverview Helpers for google.colab Python module.\n",
              " */\n",
              "(function(scope) {\n",
              "function span(text, styleAttributes = {}) {\n",
              "  const element = document.createElement('span');\n",
              "  element.textContent = text;\n",
              "  for (const key of Object.keys(styleAttributes)) {\n",
              "    element.style[key] = styleAttributes[key];\n",
              "  }\n",
              "  return element;\n",
              "}\n",
              "\n",
              "// Max number of bytes which will be uploaded at a time.\n",
              "const MAX_PAYLOAD_SIZE = 100 * 1024;\n",
              "\n",
              "function _uploadFiles(inputId, outputId) {\n",
              "  const steps = uploadFilesStep(inputId, outputId);\n",
              "  const outputElement = document.getElementById(outputId);\n",
              "  // Cache steps on the outputElement to make it available for the next call\n",
              "  // to uploadFilesContinue from Python.\n",
              "  outputElement.steps = steps;\n",
              "\n",
              "  return _uploadFilesContinue(outputId);\n",
              "}\n",
              "\n",
              "// This is roughly an async generator (not supported in the browser yet),\n",
              "// where there are multiple asynchronous steps and the Python side is going\n",
              "// to poll for completion of each step.\n",
              "// This uses a Promise to block the python side on completion of each step,\n",
              "// then passes the result of the previous step as the input to the next step.\n",
              "function _uploadFilesContinue(outputId) {\n",
              "  const outputElement = document.getElementById(outputId);\n",
              "  const steps = outputElement.steps;\n",
              "\n",
              "  const next = steps.next(outputElement.lastPromiseValue);\n",
              "  return Promise.resolve(next.value.promise).then((value) => {\n",
              "    // Cache the last promise value to make it available to the next\n",
              "    // step of the generator.\n",
              "    outputElement.lastPromiseValue = value;\n",
              "    return next.value.response;\n",
              "  });\n",
              "}\n",
              "\n",
              "/**\n",
              " * Generator function which is called between each async step of the upload\n",
              " * process.\n",
              " * @param {string} inputId Element ID of the input file picker element.\n",
              " * @param {string} outputId Element ID of the output display.\n",
              " * @return {!Iterable<!Object>} Iterable of next steps.\n",
              " */\n",
              "function* uploadFilesStep(inputId, outputId) {\n",
              "  const inputElement = document.getElementById(inputId);\n",
              "  inputElement.disabled = false;\n",
              "\n",
              "  const outputElement = document.getElementById(outputId);\n",
              "  outputElement.innerHTML = '';\n",
              "\n",
              "  const pickedPromise = new Promise((resolve) => {\n",
              "    inputElement.addEventListener('change', (e) => {\n",
              "      resolve(e.target.files);\n",
              "    });\n",
              "  });\n",
              "\n",
              "  const cancel = document.createElement('button');\n",
              "  inputElement.parentElement.appendChild(cancel);\n",
              "  cancel.textContent = 'Cancel upload';\n",
              "  const cancelPromise = new Promise((resolve) => {\n",
              "    cancel.onclick = () => {\n",
              "      resolve(null);\n",
              "    };\n",
              "  });\n",
              "\n",
              "  // Wait for the user to pick the files.\n",
              "  const files = yield {\n",
              "    promise: Promise.race([pickedPromise, cancelPromise]),\n",
              "    response: {\n",
              "      action: 'starting',\n",
              "    }\n",
              "  };\n",
              "\n",
              "  cancel.remove();\n",
              "\n",
              "  // Disable the input element since further picks are not allowed.\n",
              "  inputElement.disabled = true;\n",
              "\n",
              "  if (!files) {\n",
              "    return {\n",
              "      response: {\n",
              "        action: 'complete',\n",
              "      }\n",
              "    };\n",
              "  }\n",
              "\n",
              "  for (const file of files) {\n",
              "    const li = document.createElement('li');\n",
              "    li.append(span(file.name, {fontWeight: 'bold'}));\n",
              "    li.append(span(\n",
              "        `(${file.type || 'n/a'}) - ${file.size} bytes, ` +\n",
              "        `last modified: ${\n",
              "            file.lastModifiedDate ? file.lastModifiedDate.toLocaleDateString() :\n",
              "                                    'n/a'} - `));\n",
              "    const percent = span('0% done');\n",
              "    li.appendChild(percent);\n",
              "\n",
              "    outputElement.appendChild(li);\n",
              "\n",
              "    const fileDataPromise = new Promise((resolve) => {\n",
              "      const reader = new FileReader();\n",
              "      reader.onload = (e) => {\n",
              "        resolve(e.target.result);\n",
              "      };\n",
              "      reader.readAsArrayBuffer(file);\n",
              "    });\n",
              "    // Wait for the data to be ready.\n",
              "    let fileData = yield {\n",
              "      promise: fileDataPromise,\n",
              "      response: {\n",
              "        action: 'continue',\n",
              "      }\n",
              "    };\n",
              "\n",
              "    // Use a chunked sending to avoid message size limits. See b/62115660.\n",
              "    let position = 0;\n",
              "    do {\n",
              "      const length = Math.min(fileData.byteLength - position, MAX_PAYLOAD_SIZE);\n",
              "      const chunk = new Uint8Array(fileData, position, length);\n",
              "      position += length;\n",
              "\n",
              "      const base64 = btoa(String.fromCharCode.apply(null, chunk));\n",
              "      yield {\n",
              "        response: {\n",
              "          action: 'append',\n",
              "          file: file.name,\n",
              "          data: base64,\n",
              "        },\n",
              "      };\n",
              "\n",
              "      let percentDone = fileData.byteLength === 0 ?\n",
              "          100 :\n",
              "          Math.round((position / fileData.byteLength) * 100);\n",
              "      percent.textContent = `${percentDone}% done`;\n",
              "\n",
              "    } while (position < fileData.byteLength);\n",
              "  }\n",
              "\n",
              "  // All done.\n",
              "  yield {\n",
              "    response: {\n",
              "      action: 'complete',\n",
              "    }\n",
              "  };\n",
              "}\n",
              "\n",
              "scope.google = scope.google || {};\n",
              "scope.google.colab = scope.google.colab || {};\n",
              "scope.google.colab._files = {\n",
              "  _uploadFiles,\n",
              "  _uploadFilesContinue,\n",
              "};\n",
              "})(self);\n",
              "</script> "
            ],
            "text/plain": [
              "<IPython.core.display.HTML object>"
            ]
          },
          "metadata": {},
          "output_type": "display_data"
        },
        {
          "name": "stdout",
          "output_type": "stream",
          "text": [
            "Saving anime.csv to anime.csv\n",
            "Saving rating.csv to rating.csv\n"
          ]
        },
        {
          "data": {
            "application/vnd.google.colaboratory.intrinsic+json": {
              "type": "string"
            },
            "text/plain": [
              "'data/raw/rating.csv'"
            ]
          },
          "execution_count": 2,
          "metadata": {},
          "output_type": "execute_result"
        }
      ],
      "source": [
        "import sys, shutil\n",
        "\n",
        "PROJECT_ROOT = os.getcwd()\n",
        "DATA_RAW   = os.path.join(PROJECT_ROOT, \"data/raw\")\n",
        "os.makedirs(DATA_RAW, exist_ok=True)\n",
        "\n",
        "from google.colab import files\n",
        "uploaded = files.upload()   # select anime.csv and rating.csv\n",
        "\n",
        "shutil.move(\"anime.csv\", \"data/raw/anime.csv\")\n",
        "shutil.move(\"rating.csv\", \"data/raw/rating.csv\")"
      ]
    },
    {
      "cell_type": "markdown",
      "id": "14ad4992",
      "metadata": {
        "id": "14ad4992"
      },
      "source": [
        "## Data Preprocessing"
      ]
    },
    {
      "cell_type": "code",
      "execution_count": 3,
      "id": "28d352fb",
      "metadata": {
        "colab": {
          "base_uri": "https://localhost:8080/"
        },
        "id": "28d352fb",
        "outputId": "b1ceaaaa-23f3-4e7e-8191-8bea761b6eda"
      },
      "outputs": [
        {
          "name": "stdout",
          "output_type": "stream",
          "text": [
            "Users: 60970 | Items: 8027 | Ratings: 6314631\n",
            "Splits -> train: 4392123, val: 920565, test: 1001943\n",
            "Saved cleaned data to: data/processed\n",
            "=== Anime metadata (cleaned) ===\n",
            "Total items: 8027\n",
            "Feature matrix shape: (8027, 57)\n",
            "\n",
            "=== Missing values in anime.csv ===\n",
            "Missing genres: 0 (0.00%)\n",
            "Missing types: 0 (0.00%)\n",
            "Missing ratings: 0 (0.00%)\n",
            "\n",
            "=== Numeric fields summary (before scaling) ===\n",
            "\n",
            "episodes:\n",
            "count    8027.000000\n",
            "mean       11.939330\n",
            "std        38.550412\n",
            "min         1.000000\n",
            "25%         1.000000\n",
            "50%         2.000000\n",
            "75%        12.000000\n",
            "max      1787.000000\n",
            "Name: episodes, dtype: float64\n",
            "\n",
            "rating:\n",
            "count    8027.000000\n",
            "mean        6.804482\n",
            "std         0.837150\n",
            "min         2.000000\n",
            "25%         6.310000\n",
            "50%         6.830000\n",
            "75%         7.370000\n",
            "max         9.370000\n",
            "Name: rating, dtype: float64\n",
            "\n",
            "members:\n",
            "count    8.027000e+03\n",
            "mean     2.691042e+04\n",
            "std      6.545656e+04\n",
            "min      1.290000e+02\n",
            "25%      1.399000e+03\n",
            "50%      4.372000e+03\n",
            "75%      2.049050e+04\n",
            "max      1.013917e+06\n",
            "Name: members, dtype: float64\n",
            "\n",
            "=== Sanity check: missingness flags ===\n",
            "miss_genre: 4 items flagged (0.05%)\n",
            "miss_type: 0 items flagged (0.00%)\n",
            "miss_rating: 0 items flagged (0.00%)\n",
            "\n",
            "=== Sanity check: numeric feature ranges (scaled) ===\n",
            "episodes: min=0.000, max=1.000, mean=0.006)\n",
            "rating: min=0.000, max=1.000, mean=0.652)\n",
            "members: min=0.000, max=1.000, mean=0.026)\n"
          ]
        }
      ],
      "source": [
        "!python scripts/preprocess_data.py --data_dir data/raw --out_dir data/processed --build_item_features --check\n"
      ]
    },
    {
      "cell_type": "markdown",
      "id": "f1c97241",
      "metadata": {
        "id": "f1c97241"
      },
      "source": [
        "## Baseline Item-based Collaborative Filtering"
      ]
    },
    {
      "cell_type": "code",
      "execution_count": 7,
      "id": "e95134aa",
      "metadata": {
        "colab": {
          "base_uri": "https://localhost:8080/"
        },
        "id": "e95134aa",
        "outputId": "2e961054-a3d0-49d4-c05d-65aeae637472"
      },
      "outputs": [
        {
          "name": "stdout",
          "output_type": "stream",
          "text": [
            "[val] {'rmse': 1.261872410774231, 'mae': 0.9573583602905273}\n"
          ]
        }
      ],
      "source": [
        "!python -m src.baselines.itemcf.train --data_dir data/processed --out_prefix runs/itemcf/anime --k 100 --shrink 50\n"
      ]
    },
    {
      "cell_type": "code",
      "execution_count": 8,
      "id": "316a6b01",
      "metadata": {
        "colab": {
          "base_uri": "https://localhost:8080/"
        },
        "id": "316a6b01",
        "outputId": "2988ac25-ce22-4063-ab16-ea4d0f0b3dfb"
      },
      "outputs": [
        {
          "name": "stdout",
          "output_type": "stream",
          "text": [
            "[rating] test | RMSE=1.2673 MAE=0.9606\n",
            "[ranking] K= 10 | HR=0.6047 NDCG=0.3827 P=0.1140 R=0.1435 MAP=0.0919\n",
            "[ranking] K= 20 | HR=0.6968 NDCG=0.3976 P=0.0863 R=0.2013 MAP=0.0887\n"
          ]
        }
      ],
      "source": [
        "!python -m src.baselines.itemcf.eval --model_prefix runs/itemcf/anime --splits_dir data/processed/splits --split test --k 10,20"
      ]
    },
    {
      "cell_type": "markdown",
      "id": "194d3001",
      "metadata": {
        "id": "194d3001"
      },
      "source": [
        "## Matrix Factorization"
      ]
    },
    {
      "cell_type": "code",
      "execution_count": null,
      "id": "4b221afd",
      "metadata": {
        "id": "4b221afd"
      },
      "outputs": [],
      "source": [
        "!python -m src.train --config configs/config_mf.yaml\n"
      ]
    },
    {
      "cell_type": "code",
      "execution_count": null,
      "id": "4c888b44",
      "metadata": {
        "id": "4c888b44"
      },
      "outputs": [],
      "source": [
        "!python -m src.eval --ckpt runs/neumf/[latest_run]/best.ckpt --config configs/config_mf.yaml\n"
      ]
    },
    {
      "cell_type": "markdown",
      "id": "80655ad9",
      "metadata": {
        "id": "80655ad9"
      },
      "source": [
        "## Neural Matrix Factorization (NeuMF)"
      ]
    },
    {
      "cell_type": "code",
      "execution_count": null,
      "id": "d8d411c7",
      "metadata": {
        "id": "d8d411c7"
      },
      "outputs": [],
      "source": [
        "!python -m src.train --config configs/config_neumf.yaml\n"
      ]
    },
    {
      "cell_type": "code",
      "execution_count": null,
      "id": "88a865f9",
      "metadata": {
        "id": "88a865f9"
      },
      "outputs": [],
      "source": [
        "!python -m src.eval --ckpt runs/neumf/[latest_run]/best.ckpt --config configs/config_neumf.yaml\n"
      ]
    },
    {
      "cell_type": "markdown",
      "id": "6c792197",
      "metadata": {
        "id": "6c792197"
      },
      "source": [
        "## Batch Training & Evaluation\n",
        "Run shell scripts to train and evaluate variants: MF, NeuMF, Two Tower, and fine tuning Two Tower with Approximate NDCG loss."
      ]
    },
    {
      "cell_type": "code",
      "execution_count": null,
      "id": "ecfa16c9",
      "metadata": {
        "colab": {
          "base_uri": "https://localhost:8080/"
        },
        "id": "ecfa16c9",
        "outputId": "ee9a347e-7b42-4bcd-b4a4-d2e12e7835e4"
      },
      "outputs": [
        {
          "name": "stdout",
          "output_type": "stream",
          "text": [
            "[train] (config_mf) MSE run -> runs/variants/config_mf/20251007_071439/mse\n",
            "2025-10-07 07:14:42.278724: I tensorflow/core/util/port.cc:153] oneDNN custom operations are on. You may see slightly different numerical results due to floating-point round-off errors from different computation orders. To turn them off, set the environment variable `TF_ENABLE_ONEDNN_OPTS=0`.\n",
            "2025-10-07 07:14:42.296448: E external/local_xla/xla/stream_executor/cuda/cuda_fft.cc:467] Unable to register cuFFT factory: Attempting to register factory for plugin cuFFT when one has already been registered\n",
            "WARNING: All log messages before absl::InitializeLog() is called are written to STDERR\n",
            "E0000 00:00:1759821282.317997   26370 cuda_dnn.cc:8579] Unable to register cuDNN factory: Attempting to register factory for plugin cuDNN when one has already been registered\n",
            "E0000 00:00:1759821282.324566   26370 cuda_blas.cc:1407] Unable to register cuBLAS factory: Attempting to register factory for plugin cuBLAS when one has already been registered\n",
            "W0000 00:00:1759821282.341248   26370 computation_placer.cc:177] computation placer already registered. Please check linkage and avoid linking the same target more than once.\n",
            "W0000 00:00:1759821282.341274   26370 computation_placer.cc:177] computation placer already registered. Please check linkage and avoid linking the same target more than once.\n",
            "W0000 00:00:1759821282.341277   26370 computation_placer.cc:177] computation placer already registered. Please check linkage and avoid linking the same target more than once.\n",
            "W0000 00:00:1759821282.341279   26370 computation_placer.cc:177] computation placer already registered. Please check linkage and avoid linking the same target more than once.\n",
            "2025-10-07 07:14:42.346149: I tensorflow/core/platform/cpu_feature_guard.cc:210] This TensorFlow binary is optimized to use available CPU instructions in performance-critical operations.\n",
            "To enable the following instructions: AVX2 AVX512F AVX512_VNNI FMA, in other operations, rebuild TensorFlow with the appropriate compiler flags.\n",
            "[run_dir] runs/variants/config_mf/20251007_071439/mse\n",
            "epoch 01 | train loss (RMSE) 61.9954 | val RMSE 7.6756 | HR@10 0.4067 | NDCG@10 0.0814 | best RMSE 7.6756 | best HR@10 0.4067 | early-stop RMSE 7.6756\n",
            "epoch 02 | train loss (RMSE) 50.9815 | val RMSE 6.3485 | HR@10 0.4133 | NDCG@10 0.0837 | best RMSE 6.3485 | best HR@10 0.4133 | early-stop RMSE 6.3485\n"
          ]
        }
      ],
      "source": [
        "!bash ./scripts/train_variants.sh\n"
      ]
    },
    {
      "cell_type": "code",
      "execution_count": null,
      "id": "718QYQPuWUvZ",
      "metadata": {
        "id": "718QYQPuWUvZ"
      },
      "outputs": [],
      "source": [
        "!bash ./scripts/evaluate_all.sh runs/evaluation runs/variants"
      ]
    }
  ],
  "metadata": {
    "accelerator": "GPU",
    "colab": {
      "gpuType": "L4",
      "machine_shape": "hm",
      "provenance": []
    },
    "kernelspec": {
      "display_name": "Python 3",
      "name": "python3"
    },
    "language_info": {
      "name": "python",
      "version": "3.12.3"
    }
  },
  "nbformat": 4,
  "nbformat_minor": 5
}
