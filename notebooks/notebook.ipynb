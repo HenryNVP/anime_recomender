{
 "cells": [
  {
   "cell_type": "code",
   "execution_count": null,
   "id": "090ddea7",
   "metadata": {},
   "outputs": [],
   "source": [
    "REPO = \"https://github.com/HenryNVP/anime_recomender.git\"\n",
    "!git clone $REPO\n",
    "\n",
    "import os\n",
    "%cd anime_recomender/\n",
    "\n",
    "!pip -q install -r requirements.txt\n",
    "\n",
    "import torch\n",
    "print(\"CUDA available:\", torch.cuda.is_available())"
   ]
  },
  {
   "cell_type": "code",
   "execution_count": null,
   "id": "20a13a95",
   "metadata": {},
   "outputs": [],
   "source": [
    "import sys, shutil\n",
    "\n",
    "PROJECT_ROOT = os.getcwd()\n",
    "DATA_RAW   = os.path.join(PROJECT_ROOT, \"data/raw\")\n",
    "os.makedirs(p, exist_ok=True)\n",
    "\n",
    "from google.colab import files\n",
    "uploaded = files.upload()   # select anime.csv and rating.csv \n",
    "\n",
    "shutil.move(\"anime.csv\", \"data/raw/anime.csv\")\n",
    "shutil.move(\"rating.csv\", \"data/raw/rating.csv\")"
   ]
  },
  {
   "cell_type": "markdown",
   "id": "14ad4992",
   "metadata": {},
   "source": [
    "## Data Preprocessing"
   ]
  },
  {
   "cell_type": "code",
   "execution_count": null,
   "id": "e31ca424",
   "metadata": {},
   "outputs": [
    {
     "ename": "",
     "evalue": "",
     "output_type": "error",
     "traceback": [
      "\u001b[1;31mThe kernel failed to start as the Python Environment 'Python 3.12.3' is no longer available. Consider selecting another kernel or refreshing the list of Python Environments."
     ]
    }
   ],
   "source": [
    "!python scripts/preprocess_data.py --data_dir data/raw --out_dir data/processed --build_item_features --check"
   ]
  },
  {
   "cell_type": "markdown",
   "id": "f1c97241",
   "metadata": {},
   "source": [
    "## Baseline Item-based Collaborative Filtering"
   ]
  },
  {
   "cell_type": "code",
   "execution_count": null,
   "id": "e95134aa",
   "metadata": {},
   "outputs": [],
   "source": [
    "# Train baseline\n",
    "!python -m src.baselines.itemcf.train --data_dir data/processed --out_prefix runs/itemcf/anime --k 100 --shrink 50"
   ]
  },
  {
   "cell_type": "code",
   "execution_count": null,
   "id": "316a6b01",
   "metadata": {},
   "outputs": [],
   "source": [
    "# Evaluate baseline\n",
    "!python -m src.baselines.itemcf.eval --model_prefix runs/itemcf/anime \\\n",
    "  --splits_dir data/processed/splits --split test --k 10,20"
   ]
  },
  {
   "cell_type": "markdown",
   "id": "80655ad9",
   "metadata": {},
   "source": [
    "## Neural Matrix Factorization (NeuMF)"
   ]
  },
  {
   "cell_type": "code",
   "execution_count": null,
   "id": "d8d411c7",
   "metadata": {},
   "outputs": [],
   "source": [
    "# Train NeuMF\n",
    "!python -m src.train --config configs/config_neumf.yaml"
   ]
  },
  {
   "cell_type": "code",
   "execution_count": null,
   "id": "88a865f9",
   "metadata": {},
   "outputs": [],
   "source": [
    "# Evaluate NeuMF\n",
    "!python -m src.eval --ckpt runs/neumf/[latest_run]/best.ckpt --config configs/config_neumf.yaml"
   ]
  },
  {
   "cell_type": "markdown",
   "id": "194d3001",
   "metadata": {},
   "source": [
    "## Matrix Factorization (Optional)"
   ]
  },
  {
   "cell_type": "code",
   "execution_count": null,
   "id": "3750ea84",
   "metadata": {},
   "outputs": [],
   "source": [
    "# Train MF\n",
    "!python -m src.train --config configs/config_mf.yaml"
   ]
  },
  {
   "cell_type": "code",
   "execution_count": null,
   "id": "9de8f225",
   "metadata": {},
   "outputs": [],
   "source": [
    "# Evaluate MF\n",
    "!python -m src.eval --ckpt runs/neumf/[latest_run]/best.ckpt --config configs/config_mf.yaml"
   ]
  }
 ],
 "metadata": {
  "kernelspec": {
   "display_name": "Python 3",
   "language": "python",
   "name": "python3"
  },
  "language_info": {
   "name": "python",
   "version": "3.12.3"
  }
 },
 "nbformat": 4,
 "nbformat_minor": 5
}
