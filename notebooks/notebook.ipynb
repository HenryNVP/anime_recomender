{
 "cells": [
  {
   "cell_type": "code",
   "execution_count": null,
   "id": "090ddea7",
   "metadata": {
    "id": "090ddea7"
   },
   "outputs": [],
   "source": [
    "REPO = \"https://github.com/HenryNVP/anime_recomender.git\"\n",
    "!git clone $REPO\n",
    "\n",
    "import os\n",
    "%cd anime_recomender/\n",
    "\n",
    "!pip -q install -r requirements.txt\n",
    "\n",
    "import torch\n",
    "print(\"CUDA available:\", torch.cuda.is_available())"
   ]
  },
  {
   "cell_type": "code",
   "execution_count": null,
   "id": "20a13a95",
   "metadata": {
    "id": "20a13a95"
   },
   "outputs": [],
   "source": [
    "import sys, shutil\n",
    "\n",
    "PROJECT_ROOT = os.getcwd()\n",
    "DATA_RAW   = os.path.join(PROJECT_ROOT, \"data/raw\")\n",
    "os.makedirs(DATA_RAW, exist_ok=True)\n",
    "\n",
    "from google.colab import files\n",
    "uploaded = files.upload()   # select anime.csv and rating.csv\n",
    "\n",
    "shutil.move(\"anime.csv\", \"data/raw/anime.csv\")\n",
    "shutil.move(\"rating.csv\", \"data/raw/rating.csv\")"
   ]
  },
  {
   "cell_type": "markdown",
   "id": "14ad4992",
   "metadata": {
    "id": "14ad4992"
   },
   "source": [
    "## Data Preprocessing"
   ]
  },
  {
   "cell_type": "code",
   "execution_count": null,
   "id": "28d352fb",
   "metadata": {},
   "outputs": [],
   "source": [
    "%%bash\n",
    "python scripts/preprocess_data.py --data_dir data/raw --out_dir data/processed --build_item_features --check\n"
   ]
  },
  {
   "cell_type": "markdown",
   "id": "f1c97241",
   "metadata": {
    "id": "f1c97241"
   },
   "source": [
    "## Baseline Item-based Collaborative Filtering"
   ]
  },
  {
   "cell_type": "code",
   "execution_count": null,
   "id": "e95134aa",
   "metadata": {
    "id": "e95134aa"
   },
   "outputs": [],
   "source": [
    "%%bash\n",
    "python -m src.baselines.itemcf.train --data_dir data/processed\n"
   ]
  },
  {
   "cell_type": "code",
   "execution_count": null,
   "id": "316a6b01",
   "metadata": {
    "id": "316a6b01"
   },
   "outputs": [],
   "source": [
    "%%bash\n",
    "python -m src.baselines.itemcf.eval --model_prefix runs/itemcf/anime --splits_dir data/processed/splits --split test --k 10,20\n"
   ]
  },
  {
   "cell_type": "markdown",
   "id": "194d3001",
   "metadata": {
    "id": "194d3001"
   },
   "source": [
    "## Matrix Factorization"
   ]
  },
  {
   "cell_type": "code",
   "execution_count": null,
   "id": "4b221afd",
   "metadata": {},
   "outputs": [],
   "source": [
    "%%bash\n",
    "python -m src.train --config configs/config_mf.yaml\n"
   ]
  },
  {
   "cell_type": "code",
   "execution_count": null,
   "id": "4c888b44",
   "metadata": {},
   "outputs": [],
   "source": [
    "%%bash\n",
    "python -m src.eval --ckpt runs/neumf/[latest_run]/best.ckpt --config configs/config_mf.yaml\n"
   ]
  },
  {
   "cell_type": "markdown",
   "id": "80655ad9",
   "metadata": {
    "id": "80655ad9"
   },
   "source": [
    "## Neural Matrix Factorization (NeuMF)"
   ]
  },
  {
   "cell_type": "code",
   "execution_count": null,
   "id": "d8d411c7",
   "metadata": {
    "id": "d8d411c7"
   },
   "outputs": [],
   "source": [
    "%%bash\n",
    "python -m src.train --config configs/config_neumf.yaml\n"
   ]
  },
  {
   "cell_type": "code",
   "execution_count": null,
   "id": "88a865f9",
   "metadata": {
    "id": "88a865f9"
   },
   "outputs": [],
   "source": [
    "%%bash\n",
    "python -m src.eval --ckpt runs/neumf/[latest_run]/best.ckpt --config configs/config_neumf.yaml\n"
   ]
  },
  {
   "cell_type": "markdown",
   "id": "6c792197",
   "metadata": {},
   "source": [
    "## Batch Training & Evaluation\n",
    "Run shell scripts to train/evaluate all variants in one go."
   ]
  },
  {
   "cell_type": "code",
   "execution_count": null,
   "id": "ecfa16c9",
   "metadata": {},
   "outputs": [],
   "source": [
    "%%bash\n",
    "./scripts/train_variants.sh\n",
    "./scripts/evaluate_all.sh runs/evaluation runs/variants\n"
   ]
  }
 ],
 "metadata": {
  "accelerator": "GPU",
  "colab": {
   "gpuType": "L4",
   "machine_shape": "hm",
   "provenance": []
  },
  "kernelspec": {
   "display_name": "Python 3",
   "name": "python3"
  },
  "language_info": {
   "name": "python",
   "version": "3.12.3"
  }
 },
 "nbformat": 4,
 "nbformat_minor": 5
}
